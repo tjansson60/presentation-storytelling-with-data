{
 "cells": [
  {
   "cell_type": "code",
   "execution_count": 1,
   "id": "5986bad9",
   "metadata": {
    "ExecuteTime": {
     "end_time": "2022-08-28T19:45:15.482740Z",
     "start_time": "2022-08-28T19:45:14.920230Z"
    }
   },
   "outputs": [],
   "source": [
    "import pandas as pd\n",
    "import seaborn as sns\n",
    "import matplotlib.pyplot as plt\n",
    "from numpy import median, mean\n",
    "sns.set_theme()\n",
    "# sns.set_theme(style=\"ticks\")"
   ]
  },
  {
   "cell_type": "markdown",
   "id": "b2a44492",
   "metadata": {},
   "source": [
    "# Load data"
   ]
  },
  {
   "cell_type": "code",
   "execution_count": 2,
   "id": "722a0391",
   "metadata": {
    "ExecuteTime": {
     "end_time": "2022-08-28T19:45:15.505862Z",
     "start_time": "2022-08-28T19:45:15.488153Z"
    }
   },
   "outputs": [
    {
     "data": {
      "text/html": [
       "<div>\n",
       "<style scoped>\n",
       "    .dataframe tbody tr th:only-of-type {\n",
       "        vertical-align: middle;\n",
       "    }\n",
       "\n",
       "    .dataframe tbody tr th {\n",
       "        vertical-align: top;\n",
       "    }\n",
       "\n",
       "    .dataframe thead th {\n",
       "        text-align: right;\n",
       "    }\n",
       "</style>\n",
       "<table border=\"1\" class=\"dataframe\">\n",
       "  <thead>\n",
       "    <tr style=\"text-align: right;\">\n",
       "      <th></th>\n",
       "      <th>total_bill</th>\n",
       "      <th>tip</th>\n",
       "      <th>sex</th>\n",
       "      <th>smoker</th>\n",
       "      <th>day</th>\n",
       "      <th>time</th>\n",
       "      <th>size</th>\n",
       "      <th>Tip [%]</th>\n",
       "    </tr>\n",
       "  </thead>\n",
       "  <tbody>\n",
       "    <tr>\n",
       "      <th>0</th>\n",
       "      <td>16.99</td>\n",
       "      <td>1.01</td>\n",
       "      <td>Female</td>\n",
       "      <td>No</td>\n",
       "      <td>Sun</td>\n",
       "      <td>Dinner</td>\n",
       "      <td>2</td>\n",
       "      <td>5.944673</td>\n",
       "    </tr>\n",
       "    <tr>\n",
       "      <th>1</th>\n",
       "      <td>10.34</td>\n",
       "      <td>1.66</td>\n",
       "      <td>Male</td>\n",
       "      <td>No</td>\n",
       "      <td>Sun</td>\n",
       "      <td>Dinner</td>\n",
       "      <td>3</td>\n",
       "      <td>16.054159</td>\n",
       "    </tr>\n",
       "    <tr>\n",
       "      <th>2</th>\n",
       "      <td>21.01</td>\n",
       "      <td>3.50</td>\n",
       "      <td>Male</td>\n",
       "      <td>No</td>\n",
       "      <td>Sun</td>\n",
       "      <td>Dinner</td>\n",
       "      <td>3</td>\n",
       "      <td>16.658734</td>\n",
       "    </tr>\n",
       "    <tr>\n",
       "      <th>3</th>\n",
       "      <td>23.68</td>\n",
       "      <td>3.31</td>\n",
       "      <td>Male</td>\n",
       "      <td>No</td>\n",
       "      <td>Sun</td>\n",
       "      <td>Dinner</td>\n",
       "      <td>2</td>\n",
       "      <td>13.978041</td>\n",
       "    </tr>\n",
       "    <tr>\n",
       "      <th>4</th>\n",
       "      <td>24.59</td>\n",
       "      <td>3.61</td>\n",
       "      <td>Female</td>\n",
       "      <td>No</td>\n",
       "      <td>Sun</td>\n",
       "      <td>Dinner</td>\n",
       "      <td>4</td>\n",
       "      <td>14.680765</td>\n",
       "    </tr>\n",
       "    <tr>\n",
       "      <th>...</th>\n",
       "      <td>...</td>\n",
       "      <td>...</td>\n",
       "      <td>...</td>\n",
       "      <td>...</td>\n",
       "      <td>...</td>\n",
       "      <td>...</td>\n",
       "      <td>...</td>\n",
       "      <td>...</td>\n",
       "    </tr>\n",
       "    <tr>\n",
       "      <th>239</th>\n",
       "      <td>29.03</td>\n",
       "      <td>5.92</td>\n",
       "      <td>Male</td>\n",
       "      <td>No</td>\n",
       "      <td>Sat</td>\n",
       "      <td>Dinner</td>\n",
       "      <td>3</td>\n",
       "      <td>20.392697</td>\n",
       "    </tr>\n",
       "    <tr>\n",
       "      <th>240</th>\n",
       "      <td>27.18</td>\n",
       "      <td>2.00</td>\n",
       "      <td>Female</td>\n",
       "      <td>Yes</td>\n",
       "      <td>Sat</td>\n",
       "      <td>Dinner</td>\n",
       "      <td>2</td>\n",
       "      <td>7.358352</td>\n",
       "    </tr>\n",
       "    <tr>\n",
       "      <th>241</th>\n",
       "      <td>22.67</td>\n",
       "      <td>2.00</td>\n",
       "      <td>Male</td>\n",
       "      <td>Yes</td>\n",
       "      <td>Sat</td>\n",
       "      <td>Dinner</td>\n",
       "      <td>2</td>\n",
       "      <td>8.822232</td>\n",
       "    </tr>\n",
       "    <tr>\n",
       "      <th>242</th>\n",
       "      <td>17.82</td>\n",
       "      <td>1.75</td>\n",
       "      <td>Male</td>\n",
       "      <td>No</td>\n",
       "      <td>Sat</td>\n",
       "      <td>Dinner</td>\n",
       "      <td>2</td>\n",
       "      <td>9.820426</td>\n",
       "    </tr>\n",
       "    <tr>\n",
       "      <th>243</th>\n",
       "      <td>18.78</td>\n",
       "      <td>3.00</td>\n",
       "      <td>Female</td>\n",
       "      <td>No</td>\n",
       "      <td>Thur</td>\n",
       "      <td>Dinner</td>\n",
       "      <td>2</td>\n",
       "      <td>15.974441</td>\n",
       "    </tr>\n",
       "  </tbody>\n",
       "</table>\n",
       "<p>244 rows × 8 columns</p>\n",
       "</div>"
      ],
      "text/plain": [
       "     total_bill   tip     sex smoker   day    time  size    Tip [%]\n",
       "0         16.99  1.01  Female     No   Sun  Dinner     2   5.944673\n",
       "1         10.34  1.66    Male     No   Sun  Dinner     3  16.054159\n",
       "2         21.01  3.50    Male     No   Sun  Dinner     3  16.658734\n",
       "3         23.68  3.31    Male     No   Sun  Dinner     2  13.978041\n",
       "4         24.59  3.61  Female     No   Sun  Dinner     4  14.680765\n",
       "..          ...   ...     ...    ...   ...     ...   ...        ...\n",
       "239       29.03  5.92    Male     No   Sat  Dinner     3  20.392697\n",
       "240       27.18  2.00  Female    Yes   Sat  Dinner     2   7.358352\n",
       "241       22.67  2.00    Male    Yes   Sat  Dinner     2   8.822232\n",
       "242       17.82  1.75    Male     No   Sat  Dinner     2   9.820426\n",
       "243       18.78  3.00  Female     No  Thur  Dinner     2  15.974441\n",
       "\n",
       "[244 rows x 8 columns]"
      ]
     },
     "execution_count": 2,
     "metadata": {},
     "output_type": "execute_result"
    }
   ],
   "source": [
    "tips = sns.load_dataset(\"tips\")\n",
    "tips['Tip [%]'] = (tips['tip']/tips['total_bill'])*100\n",
    "tips"
   ]
  },
  {
   "cell_type": "code",
   "execution_count": 3,
   "id": "efd3493b",
   "metadata": {
    "ExecuteTime": {
     "end_time": "2022-08-28T19:45:15.529097Z",
     "start_time": "2022-08-28T19:45:15.507182Z"
    }
   },
   "outputs": [
    {
     "data": {
      "text/html": [
       "<div>\n",
       "<style scoped>\n",
       "    .dataframe tbody tr th:only-of-type {\n",
       "        vertical-align: middle;\n",
       "    }\n",
       "\n",
       "    .dataframe tbody tr th {\n",
       "        vertical-align: top;\n",
       "    }\n",
       "\n",
       "    .dataframe thead th {\n",
       "        text-align: right;\n",
       "    }\n",
       "</style>\n",
       "<table border=\"1\" class=\"dataframe\">\n",
       "  <thead>\n",
       "    <tr style=\"text-align: right;\">\n",
       "      <th></th>\n",
       "      <th>count</th>\n",
       "      <th>mean</th>\n",
       "      <th>min</th>\n",
       "      <th>perc_05</th>\n",
       "      <th>quantile_Q1</th>\n",
       "      <th>median</th>\n",
       "      <th>quantile_Q3</th>\n",
       "      <th>perc_95</th>\n",
       "      <th>perc_99</th>\n",
       "      <th>max</th>\n",
       "    </tr>\n",
       "    <tr>\n",
       "      <th>time</th>\n",
       "      <th></th>\n",
       "      <th></th>\n",
       "      <th></th>\n",
       "      <th></th>\n",
       "      <th></th>\n",
       "      <th></th>\n",
       "      <th></th>\n",
       "      <th></th>\n",
       "      <th></th>\n",
       "      <th></th>\n",
       "    </tr>\n",
       "  </thead>\n",
       "  <tbody>\n",
       "    <tr>\n",
       "      <th>Lunch</th>\n",
       "      <td>68</td>\n",
       "      <td>16.412793</td>\n",
       "      <td>7.296137</td>\n",
       "      <td>10.268848</td>\n",
       "      <td>13.914666</td>\n",
       "      <td>15.408357</td>\n",
       "      <td>19.391734</td>\n",
       "      <td>23.220675</td>\n",
       "      <td>26.162351</td>\n",
       "      <td>26.631158</td>\n",
       "    </tr>\n",
       "    <tr>\n",
       "      <th>Dinner</th>\n",
       "      <td>176</td>\n",
       "      <td>15.951779</td>\n",
       "      <td>3.563814</td>\n",
       "      <td>7.637882</td>\n",
       "      <td>12.319151</td>\n",
       "      <td>15.540002</td>\n",
       "      <td>18.820878</td>\n",
       "      <td>24.179134</td>\n",
       "      <td>34.846634</td>\n",
       "      <td>71.034483</td>\n",
       "    </tr>\n",
       "  </tbody>\n",
       "</table>\n",
       "</div>"
      ],
      "text/plain": [
       "        count       mean       min    perc_05  quantile_Q1     median  \\\n",
       "time                                                                    \n",
       "Lunch      68  16.412793  7.296137  10.268848    13.914666  15.408357   \n",
       "Dinner    176  15.951779  3.563814   7.637882    12.319151  15.540002   \n",
       "\n",
       "        quantile_Q3    perc_95    perc_99        max  \n",
       "time                                                  \n",
       "Lunch     19.391734  23.220675  26.162351  26.631158  \n",
       "Dinner    18.820878  24.179134  34.846634  71.034483  "
      ]
     },
     "execution_count": 3,
     "metadata": {},
     "output_type": "execute_result"
    }
   ],
   "source": [
    "tips.groupby(['time']).agg(\n",
    "    count       = ('Tip [%]', 'count'), \n",
    "    mean        = ('Tip [%]', 'mean'),\n",
    "    min         = ('Tip [%]', 'min'),\n",
    "    perc_05     = ('Tip [%]', lambda x: x.quantile(0.05)),\n",
    "    quantile_Q1 = ('Tip [%]', lambda x: x.quantile(0.25)),\n",
    "    median      = ('Tip [%]', 'median'),\n",
    "    quantile_Q3 = ('Tip [%]', lambda x: x.quantile(0.75)),\n",
    "    perc_95     = ('Tip [%]', lambda x: x.quantile(0.95)),\n",
    "    perc_99     = ('Tip [%]', lambda x: x.quantile(0.99)),\n",
    "    max         = ('Tip [%]', 'max'),\n",
    ")"
   ]
  },
  {
   "cell_type": "markdown",
   "id": "81cf9179",
   "metadata": {},
   "source": [
    "# Plot comparison"
   ]
  },
  {
   "cell_type": "code",
   "execution_count": 4,
   "id": "2d2515ed",
   "metadata": {
    "ExecuteTime": {
     "end_time": "2022-08-28T19:45:15.532933Z",
     "start_time": "2022-08-28T19:45:15.530462Z"
    }
   },
   "outputs": [],
   "source": [
    "x = \"Tip [%]\"\n",
    "y = \"time\"\n",
    "plot_args = {'x':x, 'y':y, 'data':tips}"
   ]
  },
  {
   "cell_type": "code",
   "execution_count": 5,
   "id": "a50cd1b4",
   "metadata": {
    "ExecuteTime": {
     "end_time": "2022-08-28T19:45:15.661782Z",
     "start_time": "2022-08-28T19:45:15.534842Z"
    }
   },
   "outputs": [
    {
     "data": {
      "image/png": "[encoded data removed]",
      "text/plain": [
       "<Figure size 864x360 with 1 Axes>"
      ]
     },
     "metadata": {},
     "output_type": "display_data"
    }
   ],
   "source": [
    "f, ax = plt.subplots(figsize=(12, 5))\n",
    "df_plot = tips.groupby(y)[x].mean().reset_index()\n",
    "sns.barplot(x=x, y=y, data=df_plot)\n",
    "\n",
    "# Tweak the visual presentation\n",
    "ax.set_title('Pre-calculated mean')\n",
    "ax.xaxis.grid(True)\n",
    "ax.set(ylabel=\"\");\n",
    "ax.set_xlim(0,17);"
   ]
  },
  {
   "cell_type": "code",
   "execution_count": 6,
   "id": "9caf00a0",
   "metadata": {
    "ExecuteTime": {
     "end_time": "2022-08-28T19:45:15.786327Z",
     "start_time": "2022-08-28T19:45:15.663405Z"
    }
   },
   "outputs": [
    {
     "data": {
      "image/png": "[encoded data removed]",
      "text/plain": [
       "<Figure size 864x360 with 1 Axes>"
      ]
     },
     "metadata": {},
     "output_type": "display_data"
    }
   ],
   "source": [
    "f, ax = plt.subplots(figsize=(12, 5))\n",
    "df_plot = tips.groupby(y)[x].median().reset_index()\n",
    "sns.barplot(x=x, y=y, data=df_plot)\n",
    "\n",
    "# Tweak the visual presentation\n",
    "ax.set_title('Pre-calculated median')\n",
    "ax.xaxis.grid(True)\n",
    "ax.set(ylabel=\"\");\n",
    "ax.set_xlim(0,17);"
   ]
  },
  {
   "cell_type": "code",
   "execution_count": 7,
   "id": "0bb8ee82",
   "metadata": {
    "ExecuteTime": {
     "end_time": "2022-08-28T19:45:15.932539Z",
     "start_time": "2022-08-28T19:45:15.787320Z"
    }
   },
   "outputs": [
    {
     "data": {
      "image/png": "[encoded data removed]",
      "text/plain": [
       "<Figure size 864x360 with 1 Axes>"
      ]
     },
     "metadata": {},
     "output_type": "display_data"
    }
   ],
   "source": [
    "f, ax = plt.subplots(figsize=(12, 5))\n",
    "sns.barplot(**plot_args) # Default estimator is mean\n",
    "\n",
    "# Tweak the visual presentation\n",
    "ax.set_title('Seaborn barplot estimator default (mean)')\n",
    "ax.xaxis.grid(True)\n",
    "ax.set(ylabel=\"\");\n",
    "ax.set_xlim(0,18);"
   ]
  },
  {
   "cell_type": "code",
   "execution_count": 8,
   "id": "e8249edc",
   "metadata": {
    "ExecuteTime": {
     "end_time": "2022-08-28T19:45:16.131472Z",
     "start_time": "2022-08-28T19:45:15.933627Z"
    }
   },
   "outputs": [
    {
     "data": {
      "image/png": "[encoded data removed]",
      "text/plain": [
       "<Figure size 864x360 with 1 Axes>"
      ]
     },
     "metadata": {},
     "output_type": "display_data"
    }
   ],
   "source": [
    "f, ax = plt.subplots(figsize=(12, 5))\n",
    "sns.barplot(**plot_args, estimator=median)\n",
    "\n",
    "# Tweak the visual presentation\n",
    "ax.set_title('Seaborn barplot estimator set to median')\n",
    "ax.xaxis.grid(True)\n",
    "ax.set(ylabel=\"\");\n",
    "ax.set_xlim(0,18);"
   ]
  }
 ],
 "metadata": {
  "kernelspec": {
   "display_name": "Python 3.9.4 64-bit ('dev': conda)",
   "language": "python",
   "name": "python394jvsc74a57bd0c29d4819c97cca48489747834ceaf54bbb5fde720c003b0cc7ee5f1faaea37d0"
  },
  "language_info": {
   "codemirror_mode": {
    "name": "ipython",
    "version": 3
   },
   "file_extension": ".py",
   "mimetype": "text/x-python",
   "name": "python",
   "nbconvert_exporter": "python",
   "pygments_lexer": "ipython3",
   "version": "3.9.4"
  },
  "toc": {
   "base_numbering": 1,
   "nav_menu": {},
   "number_sections": true,
   "sideBar": true,
   "skip_h1_title": false,
   "title_cell": "Table of Contents",
   "title_sidebar": "Contents",
   "toc_cell": false,
   "toc_position": {},
   "toc_section_display": true,
   "toc_window_display": false
  }
 },
 "nbformat": 4,
 "nbformat_minor": 5
}
